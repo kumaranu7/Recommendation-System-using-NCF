{
  "nbformat": 4,
  "nbformat_minor": 0,
  "metadata": {
    "colab": {
      "name": "Recommendation System using Neural Collaborative Filtering",
      "provenance": [],
      "collapsed_sections": [],
      "include_colab_link": true
    },
    "kernelspec": {
      "name": "python3",
      "display_name": "Python 3"
    }
  },
  "cells": [
    {
      "cell_type": "markdown",
      "metadata": {
        "id": "view-in-github",
        "colab_type": "text"
      },
      "source": [
        "<a href=\"https://colab.research.google.com/github/kumaranu7/Recommendation-System-using-NCF/blob/master/Recommendation_System_using_Neural_Collaborative_Filtering.ipynb\" target=\"_parent\"><img src=\"https://colab.research.google.com/assets/colab-badge.svg\" alt=\"Open In Colab\"/></a>"
      ]
    },
    {
      "cell_type": "code",
      "metadata": {
        "id": "VEBP8fIbyI5i",
        "colab_type": "code",
        "outputId": "ac5cdcf0-24e0-42f8-aa12-2757c7e8c71a",
        "colab": {
          "base_uri": "https://localhost:8080/",
          "height": 34
        }
      },
      "source": [
        "from google.colab import drive\n",
        "drive.mount('/content/drive')"
      ],
      "execution_count": 122,
      "outputs": [
        {
          "output_type": "stream",
          "text": [
            "Drive already mounted at /content/drive; to attempt to forcibly remount, call drive.mount(\"/content/drive\", force_remount=True).\n"
          ],
          "name": "stdout"
        }
      ]
    },
    {
      "cell_type": "code",
      "metadata": {
        "id": "G30-chIEyJfM",
        "colab_type": "code",
        "colab": {}
      },
      "source": [
        "import pandas as pd\n",
        "import numpy as np"
      ],
      "execution_count": 0,
      "outputs": []
    },
    {
      "cell_type": "code",
      "metadata": {
        "id": "uuTLLz4z6P8F",
        "colab_type": "code",
        "colab": {}
      },
      "source": [
        "rating_df = pd.read_csv('/content/drive/My Drive/Colab Notebooks/Projects/RecSys/ratings.csv')"
      ],
      "execution_count": 0,
      "outputs": []
    },
    {
      "cell_type": "code",
      "metadata": {
        "id": "iF4_2AkmmyHa",
        "colab_type": "code",
        "outputId": "3622b28c-1567-4e40-e004-44ad1131696e",
        "colab": {
          "base_uri": "https://localhost:8080/",
          "height": 204
        }
      },
      "source": [
        "rating_df = rating_df.sort_values('timestamp')\n",
        "rating_df.head()"
      ],
      "execution_count": 125,
      "outputs": [
        {
          "output_type": "execute_result",
          "data": {
            "text/html": [
              "<div>\n",
              "<style scoped>\n",
              "    .dataframe tbody tr th:only-of-type {\n",
              "        vertical-align: middle;\n",
              "    }\n",
              "\n",
              "    .dataframe tbody tr th {\n",
              "        vertical-align: top;\n",
              "    }\n",
              "\n",
              "    .dataframe thead th {\n",
              "        text-align: right;\n",
              "    }\n",
              "</style>\n",
              "<table border=\"1\" class=\"dataframe\">\n",
              "  <thead>\n",
              "    <tr style=\"text-align: right;\">\n",
              "      <th></th>\n",
              "      <th>userId</th>\n",
              "      <th>movieId</th>\n",
              "      <th>rating</th>\n",
              "      <th>timestamp</th>\n",
              "    </tr>\n",
              "  </thead>\n",
              "  <tbody>\n",
              "    <tr>\n",
              "      <th>66719</th>\n",
              "      <td>429</td>\n",
              "      <td>595</td>\n",
              "      <td>5.0</td>\n",
              "      <td>828124615</td>\n",
              "    </tr>\n",
              "    <tr>\n",
              "      <th>66716</th>\n",
              "      <td>429</td>\n",
              "      <td>588</td>\n",
              "      <td>5.0</td>\n",
              "      <td>828124615</td>\n",
              "    </tr>\n",
              "    <tr>\n",
              "      <th>66717</th>\n",
              "      <td>429</td>\n",
              "      <td>590</td>\n",
              "      <td>5.0</td>\n",
              "      <td>828124615</td>\n",
              "    </tr>\n",
              "    <tr>\n",
              "      <th>66718</th>\n",
              "      <td>429</td>\n",
              "      <td>592</td>\n",
              "      <td>5.0</td>\n",
              "      <td>828124615</td>\n",
              "    </tr>\n",
              "    <tr>\n",
              "      <th>66712</th>\n",
              "      <td>429</td>\n",
              "      <td>432</td>\n",
              "      <td>3.0</td>\n",
              "      <td>828124615</td>\n",
              "    </tr>\n",
              "  </tbody>\n",
              "</table>\n",
              "</div>"
            ],
            "text/plain": [
              "       userId  movieId  rating  timestamp\n",
              "66719     429      595     5.0  828124615\n",
              "66716     429      588     5.0  828124615\n",
              "66717     429      590     5.0  828124615\n",
              "66718     429      592     5.0  828124615\n",
              "66712     429      432     3.0  828124615"
            ]
          },
          "metadata": {
            "tags": []
          },
          "execution_count": 125
        }
      ]
    },
    {
      "cell_type": "markdown",
      "metadata": {
        "id": "cM4bJpYSiN2o",
        "colab_type": "text"
      },
      "source": [
        "Labeling the movieId and UserId column\n"
      ]
    },
    {
      "cell_type": "code",
      "metadata": {
        "id": "mLHS9M00m2JG",
        "colab_type": "code",
        "colab": {}
      },
      "source": [
        "from sklearn.preprocessing import LabelEncoder\n",
        "user_encoder = LabelEncoder()\n",
        "movie_encoder = LabelEncoder()\n",
        "user_ids = user_encoder.fit_transform(rating_df.userId)\n",
        "movie_ids = movie_encoder.fit_transform(rating_df.movieId)"
      ],
      "execution_count": 0,
      "outputs": []
    },
    {
      "cell_type": "markdown",
      "metadata": {
        "id": "1XbYmIIEicaA",
        "colab_type": "text"
      },
      "source": [
        "Train, test split\n"
      ]
    },
    {
      "cell_type": "code",
      "metadata": {
        "id": "XkNqNdmIbLHS",
        "colab_type": "code",
        "colab": {}
      },
      "source": [
        "num_train = int(len(user_ids) * 0.8)\n",
        "train_user_ids = user_ids[:num_train]\n",
        "train_movie_ids = movie_ids[:num_train]\n",
        "train_ratings = rating_df.rating.values[:num_train]\n",
        "test_user_ids = user_ids[num_train:]\n",
        "test_movie_ids = movie_ids[num_train:]\n",
        "test_ratings = rating_df.rating.values[num_train:]"
      ],
      "execution_count": 0,
      "outputs": []
    },
    {
      "cell_type": "code",
      "metadata": {
        "id": "X3G_Wd4VdnHa",
        "colab_type": "code",
        "colab": {}
      },
      "source": [
        "num_users = user_ids.max() + 1\n",
        "num_movie = movie_ids.max() + 1"
      ],
      "execution_count": 0,
      "outputs": []
    },
    {
      "cell_type": "code",
      "metadata": {
        "id": "ZYpW0mOSkzZa",
        "colab_type": "code",
        "colab": {}
      },
      "source": [
        "train_ratings /= 5\n",
        "test_ratings /= 5"
      ],
      "execution_count": 0,
      "outputs": []
    },
    {
      "cell_type": "code",
      "metadata": {
        "id": "nAj9008HlZkI",
        "colab_type": "code",
        "colab": {}
      },
      "source": [
        "def dcg_at_k(r, k):\n",
        "  r = r[:k]\n",
        "  dcg = np.sum(r / np.log2(np.arange(2, len(r) + 2)))\n",
        "  return dcg"
      ],
      "execution_count": 0,
      "outputs": []
    },
    {
      "cell_type": "code",
      "metadata": {
        "id": "PYQOwj9EmzpL",
        "colab_type": "code",
        "colab": {}
      },
      "source": [
        "def ndgc_at_k(r, k, method = 0):\n",
        "  dcg_max = dcg_at_k(sorted(r, reverse = True), k)\n",
        "  return dcg_at_k(r, k) / dcg_max"
      ],
      "execution_count": 0,
      "outputs": []
    },
    {
      "cell_type": "code",
      "metadata": {
        "id": "DBSP_ovIvviz",
        "colab_type": "code",
        "colab": {}
      },
      "source": [
        "def evaluate_prediction(predictions):\n",
        "  ndgcs = []\n",
        "  \n",
        "  for target_users in np.unique(test_user_ids):\n",
        "    target_movie_id = test_movie_ids[target_users == test_user_ids]\n",
        "    target_rating = test_ratings[target_users == test_user_ids]\n",
        "    #compute ndgc for users\n",
        "    rel = target_rating[np.argsort(-predictions[target_users == test_user_ids])]\n",
        "    ndgc = ndgc_at_k(rel, k=30)\n",
        "    ndgcs.append(ndgc)\n",
        "\n",
        "  ndcg = np.mean(ndgcs)\n",
        "  return ndcg\n",
        "\n"
      ],
      "execution_count": 0,
      "outputs": []
    },
    {
      "cell_type": "code",
      "metadata": {
        "id": "6CMHnk1480W5",
        "colab_type": "code",
        "colab": {}
      },
      "source": [
        "from keras.models import Model\n",
        "from keras.layers import Input, Dense, Embedding, concatenate, Flatten, Activation, Add, Dropout, Multiply\n",
        "from keras.optimizers import Adam"
      ],
      "execution_count": 0,
      "outputs": []
    },
    {
      "cell_type": "code",
      "metadata": {
        "id": "qavKhZM4AVOu",
        "colab_type": "code",
        "colab": {}
      },
      "source": [
        "def mf_model():\n",
        "\n",
        "  user_ip = Input((1, ))\n",
        "  user_hidden = Embedding(input_dim=num_users, output_dim = 50)(user_ip)\n",
        "  user_hidden = Flatten()(user_hidden)\n",
        "\n",
        "  #item \n",
        "  item_ip = Input((1, ))\n",
        "  item_hidden = Embedding(input_dim= num_movie, output_dim=50)(item_ip)\n",
        "  item_hidden = Flatten()(item_hidden)\n",
        "  hidden = Multiply()([user_hidden, item_hidden])\n",
        "  output = Dense(1, activation= 'sigmoid')(hidden)\n",
        "  model = Model(inputs = [user_ip, item_ip], outputs = output)\n",
        "  model.compile(loss='mse', optimizer=Adam(lr=0.005))\n",
        "  return model"
      ],
      "execution_count": 0,
      "outputs": []
    },
    {
      "cell_type": "code",
      "metadata": {
        "id": "SlyYzHo-dRyH",
        "colab_type": "code",
        "colab": {}
      },
      "source": [
        "model = mf_model()"
      ],
      "execution_count": 0,
      "outputs": []
    },
    {
      "cell_type": "code",
      "metadata": {
        "id": "G29i4z7zdc4S",
        "colab_type": "code",
        "outputId": "25ae20f7-0427-4044-9f40-90c9c3a35780",
        "colab": {
          "base_uri": "https://localhost:8080/",
          "height": 442
        }
      },
      "source": [
        "model.summary()"
      ],
      "execution_count": 136,
      "outputs": [
        {
          "output_type": "stream",
          "text": [
            "Model: \"model_9\"\n",
            "__________________________________________________________________________________________________\n",
            "Layer (type)                    Output Shape         Param #     Connected to                     \n",
            "==================================================================================================\n",
            "input_33 (InputLayer)           (None, 1)            0                                            \n",
            "__________________________________________________________________________________________________\n",
            "input_34 (InputLayer)           (None, 1)            0                                            \n",
            "__________________________________________________________________________________________________\n",
            "embedding_29 (Embedding)        (None, 1, 50)        30500       input_33[0][0]                   \n",
            "__________________________________________________________________________________________________\n",
            "embedding_30 (Embedding)        (None, 1, 50)        486200      input_34[0][0]                   \n",
            "__________________________________________________________________________________________________\n",
            "flatten_29 (Flatten)            (None, 50)           0           embedding_29[0][0]               \n",
            "__________________________________________________________________________________________________\n",
            "flatten_30 (Flatten)            (None, 50)           0           embedding_30[0][0]               \n",
            "__________________________________________________________________________________________________\n",
            "multiply_7 (Multiply)           (None, 50)           0           flatten_29[0][0]                 \n",
            "                                                                 flatten_30[0][0]                 \n",
            "__________________________________________________________________________________________________\n",
            "dense_19 (Dense)                (None, 1)            51          multiply_7[0][0]                 \n",
            "==================================================================================================\n",
            "Total params: 516,751\n",
            "Trainable params: 516,751\n",
            "Non-trainable params: 0\n",
            "__________________________________________________________________________________________________\n"
          ],
          "name": "stdout"
        }
      ]
    },
    {
      "cell_type": "code",
      "metadata": {
        "id": "q2wo9tLMdqMJ",
        "colab_type": "code",
        "outputId": "69304d07-505e-45bb-93b4-fab6cdc19aa0",
        "colab": {
          "base_uri": "https://localhost:8080/",
          "height": 255
        }
      },
      "source": [
        "from keras.callbacks import EarlyStopping\n",
        "callbacks = [EarlyStopping(patience = 5)]\n",
        "model.fit([train_user_ids, train_movie_ids], train_ratings,\n",
        "          validation_data=([test_user_ids, test_movie_ids], test_ratings), epochs=50, batch_size=128, callbacks=callbacks)"
      ],
      "execution_count": 157,
      "outputs": [
        {
          "output_type": "stream",
          "text": [
            "Train on 80668 samples, validate on 20168 samples\n",
            "Epoch 1/50\n",
            "80668/80668 [==============================] - 8s 93us/step - loss: 0.0235 - val_loss: 0.0437\n",
            "Epoch 2/50\n",
            "80668/80668 [==============================] - 7s 93us/step - loss: 0.0210 - val_loss: 0.0469\n",
            "Epoch 3/50\n",
            "80668/80668 [==============================] - 8s 95us/step - loss: 0.0187 - val_loss: 0.0521\n",
            "Epoch 4/50\n",
            "80668/80668 [==============================] - 7s 93us/step - loss: 0.0168 - val_loss: 0.0564\n",
            "Epoch 5/50\n",
            "80668/80668 [==============================] - 7s 93us/step - loss: 0.0152 - val_loss: 0.0607\n",
            "Epoch 6/50\n",
            "80668/80668 [==============================] - 8s 94us/step - loss: 0.0140 - val_loss: 0.0645\n"
          ],
          "name": "stdout"
        },
        {
          "output_type": "execute_result",
          "data": {
            "text/plain": [
              "<keras.callbacks.History at 0x7f36403290f0>"
            ]
          },
          "metadata": {
            "tags": []
          },
          "execution_count": 157
        }
      ]
    },
    {
      "cell_type": "markdown",
      "metadata": {
        "id": "slvBQG3tzKIl",
        "colab_type": "text"
      },
      "source": [
        "As we can see after 3rd epoch the val_loss has increased so we set the value of patience = 1\n",
        "\n"
      ]
    },
    {
      "cell_type": "code",
      "metadata": {
        "id": "z2Xf0HH-eI_7",
        "colab_type": "code",
        "outputId": "7a2371cd-93d7-4b09-f9b3-0f1f1c4d74b7",
        "colab": {
          "base_uri": "https://localhost:8080/",
          "height": 119
        }
      },
      "source": [
        "callbacks = [EarlyStopping(patience = 1)]\n",
        "model.fit([train_user_ids, train_movie_ids], train_ratings,\n",
        "          validation_data=([test_user_ids, test_movie_ids], test_ratings), epochs=50, batch_size=128, callbacks=callbacks)"
      ],
      "execution_count": 137,
      "outputs": [
        {
          "output_type": "stream",
          "text": [
            "Train on 80668 samples, validate on 20168 samples\n",
            "Epoch 1/50\n",
            "80668/80668 [==============================] - 6s 75us/step - loss: 0.0405 - val_loss: 0.0476\n",
            "Epoch 2/50\n",
            "80668/80668 [==============================] - 5s 67us/step - loss: 0.0210 - val_loss: 0.0483\n"
          ],
          "name": "stdout"
        },
        {
          "output_type": "execute_result",
          "data": {
            "text/plain": [
              "<keras.callbacks.History at 0x7f364076d550>"
            ]
          },
          "metadata": {
            "tags": []
          },
          "execution_count": 137
        }
      ]
    },
    {
      "cell_type": "code",
      "metadata": {
        "id": "Ihr-sHjapcno",
        "colab_type": "code",
        "colab": {
          "base_uri": "https://localhost:8080/",
          "height": 34
        },
        "outputId": "84268a86-9357-4bb3-f2ef-6675712ff1d2"
      },
      "source": [
        "predictions = model.predict([test_user_ids, test_movie_ids])\n",
        "evaluate_prediction(predictions[:, 0])"
      ],
      "execution_count": 138,
      "outputs": [
        {
          "output_type": "execute_result",
          "data": {
            "text/plain": [
              "0.845351062491839"
            ]
          },
          "metadata": {
            "tags": []
          },
          "execution_count": 138
        }
      ]
    },
    {
      "cell_type": "code",
      "metadata": {
        "id": "tyVY2ObmqUZO",
        "colab_type": "code",
        "colab": {}
      },
      "source": [
        "def mlp_model():\n",
        "  user_inp = Input((1, ))\n",
        "  user_hidden = Embedding(input_dim=num_users, output_dim=64)(user_inp)\n",
        "  user_hidden = Flatten()(user_hidden)\n",
        "\n",
        "  item_inp = Input((1, ))\n",
        "  item_hidden = Embedding(input_dim=num_movie, output_dim=64)(item_inp)\n",
        "  item_hidden = Flatten()(item_hidden)\n",
        "\n",
        "  item_hidden = concatenate([user_hidden, item_hidden])\n",
        "  hidden = Dense(128, activation='relu')(item_hidden)\n",
        "  hidden = Dropout(0.2)(hidden)\n",
        "  hidden = Dense(64, activation='relu')(hidden)\n",
        "  hidden = Dropout(0.2)(hidden)\n",
        "  output = Dense(1, activation='sigmoid')(hidden)\n",
        "\n",
        "  model = Model(inputs = [user_inp, item_inp], outputs = output)\n",
        "  model.compile(loss = 'mse', optimizer='adam')\n",
        "  return model"
      ],
      "execution_count": 0,
      "outputs": []
    },
    {
      "cell_type": "code",
      "metadata": {
        "id": "PnnrTti2uV2h",
        "colab_type": "code",
        "colab": {
          "base_uri": "https://localhost:8080/",
          "height": 578
        },
        "outputId": "8bb1e08b-705d-4920-c854-d4fbeee20f64"
      },
      "source": [
        "model = mlp_model()\n",
        "model.summary()"
      ],
      "execution_count": 140,
      "outputs": [
        {
          "output_type": "stream",
          "text": [
            "Model: \"model_10\"\n",
            "__________________________________________________________________________________________________\n",
            "Layer (type)                    Output Shape         Param #     Connected to                     \n",
            "==================================================================================================\n",
            "input_35 (InputLayer)           (None, 1)            0                                            \n",
            "__________________________________________________________________________________________________\n",
            "input_36 (InputLayer)           (None, 1)            0                                            \n",
            "__________________________________________________________________________________________________\n",
            "embedding_31 (Embedding)        (None, 1, 64)        39040       input_35[0][0]                   \n",
            "__________________________________________________________________________________________________\n",
            "embedding_32 (Embedding)        (None, 1, 64)        622336      input_36[0][0]                   \n",
            "__________________________________________________________________________________________________\n",
            "flatten_31 (Flatten)            (None, 64)           0           embedding_31[0][0]               \n",
            "__________________________________________________________________________________________________\n",
            "flatten_32 (Flatten)            (None, 64)           0           embedding_32[0][0]               \n",
            "__________________________________________________________________________________________________\n",
            "concatenate_9 (Concatenate)     (None, 128)          0           flatten_31[0][0]                 \n",
            "                                                                 flatten_32[0][0]                 \n",
            "__________________________________________________________________________________________________\n",
            "dense_20 (Dense)                (None, 128)          16512       concatenate_9[0][0]              \n",
            "__________________________________________________________________________________________________\n",
            "dropout_5 (Dropout)             (None, 128)          0           dense_20[0][0]                   \n",
            "__________________________________________________________________________________________________\n",
            "dense_21 (Dense)                (None, 64)           8256        dropout_5[0][0]                  \n",
            "__________________________________________________________________________________________________\n",
            "dropout_6 (Dropout)             (None, 64)           0           dense_21[0][0]                   \n",
            "__________________________________________________________________________________________________\n",
            "dense_22 (Dense)                (None, 1)            65          dropout_6[0][0]                  \n",
            "==================================================================================================\n",
            "Total params: 686,209\n",
            "Trainable params: 686,209\n",
            "Non-trainable params: 0\n",
            "__________________________________________________________________________________________________\n"
          ],
          "name": "stdout"
        }
      ]
    },
    {
      "cell_type": "code",
      "metadata": {
        "id": "E25Rir9Pvtad",
        "colab_type": "code",
        "colab": {
          "base_uri": "https://localhost:8080/",
          "height": 153
        },
        "outputId": "21048182-efa0-481c-9128-17aeca28741c"
      },
      "source": [
        "model.fit([train_user_ids, train_movie_ids], train_ratings, validation_data= ([test_user_ids, test_movie_ids], test_ratings), epochs=50, batch_size=128, callbacks=callbacks) "
      ],
      "execution_count": 141,
      "outputs": [
        {
          "output_type": "stream",
          "text": [
            "Train on 80668 samples, validate on 20168 samples\n",
            "Epoch 1/50\n",
            "80668/80668 [==============================] - 8s 102us/step - loss: 0.0344 - val_loss: 0.0413\n",
            "Epoch 2/50\n",
            "80668/80668 [==============================] - 7s 90us/step - loss: 0.0284 - val_loss: 0.0411\n",
            "Epoch 3/50\n",
            "80668/80668 [==============================] - 7s 91us/step - loss: 0.0263 - val_loss: 0.0415\n"
          ],
          "name": "stdout"
        },
        {
          "output_type": "execute_result",
          "data": {
            "text/plain": [
              "<keras.callbacks.History at 0x7f364054eeb8>"
            ]
          },
          "metadata": {
            "tags": []
          },
          "execution_count": 141
        }
      ]
    },
    {
      "cell_type": "code",
      "metadata": {
        "id": "LF9bflVzxXzT",
        "colab_type": "code",
        "colab": {
          "base_uri": "https://localhost:8080/",
          "height": 34
        },
        "outputId": "aae90b3f-77fa-43fd-8554-370981c1839b"
      },
      "source": [
        "predictions = model.predict([test_user_ids, test_movie_ids])\n",
        "evaluate_prediction(predictions[:, 0])"
      ],
      "execution_count": 142,
      "outputs": [
        {
          "output_type": "execute_result",
          "data": {
            "text/plain": [
              "0.8743498605773988"
            ]
          },
          "metadata": {
            "tags": []
          },
          "execution_count": 142
        }
      ]
    },
    {
      "cell_type": "code",
      "metadata": {
        "id": "sUixK5c5z84A",
        "colab_type": "code",
        "colab": {}
      },
      "source": [
        "def ncf_model():\n",
        "  user_inp = Input((1, ))\n",
        "  user_hidden = Embedding(input_dim = num_users, output_dim=64)(user_inp)\n",
        "  user_hidden = Flatten()(user_hidden)\n",
        "\n",
        "  item_inp = Input((1, ))\n",
        "  item_hidden = Embedding(num_movie, 64)(item_inp)\n",
        "  item_hidden = Flatten()(item_hidden)\n",
        "\n",
        "  mf_output = Multiply()([user_hidden, item_hidden])\n",
        "\n",
        "  hidden = concatenate([user_hidden, item_hidden])\n",
        "  hidden = Dense(128, activation='relu')(hidden)\n",
        "  hidden = Dropout(0.2)(hidden)\n",
        "  mlp_output = Dense(64, activation='relu')(hidden)\n",
        "\n",
        "  output = concatenate([mf_output, mlp_output])\n",
        "  output = Dense(1, activation='sigmoid')(output)\n",
        "\n",
        "  model = Model(inputs = [user_inp, item_inp], outputs = output)\n",
        "  model.compile(loss = 'mse', optimizer='adam')\n",
        "  return model"
      ],
      "execution_count": 0,
      "outputs": []
    },
    {
      "cell_type": "code",
      "metadata": {
        "id": "TJfzfbe5_tU2",
        "colab_type": "code",
        "colab": {
          "base_uri": "https://localhost:8080/",
          "height": 646
        },
        "outputId": "0d2cd1de-a1b8-440e-bd1b-d2a0d8038bc5"
      },
      "source": [
        "model = ncf_model()\n",
        "model.summary()"
      ],
      "execution_count": 152,
      "outputs": [
        {
          "output_type": "stream",
          "text": [
            "Model: \"model_12\"\n",
            "__________________________________________________________________________________________________\n",
            "Layer (type)                    Output Shape         Param #     Connected to                     \n",
            "==================================================================================================\n",
            "input_45 (InputLayer)           (None, 1)            0                                            \n",
            "__________________________________________________________________________________________________\n",
            "input_46 (InputLayer)           (None, 1)            0                                            \n",
            "__________________________________________________________________________________________________\n",
            "embedding_39 (Embedding)        (None, 1, 64)        39040       input_45[0][0]                   \n",
            "__________________________________________________________________________________________________\n",
            "embedding_40 (Embedding)        (None, 1, 64)        622336      input_46[0][0]                   \n",
            "__________________________________________________________________________________________________\n",
            "flatten_39 (Flatten)            (None, 64)           0           embedding_39[0][0]               \n",
            "__________________________________________________________________________________________________\n",
            "flatten_40 (Flatten)            (None, 64)           0           embedding_40[0][0]               \n",
            "__________________________________________________________________________________________________\n",
            "concatenate_13 (Concatenate)    (None, 128)          0           flatten_39[0][0]                 \n",
            "                                                                 flatten_40[0][0]                 \n",
            "__________________________________________________________________________________________________\n",
            "dense_26 (Dense)                (None, 128)          16512       concatenate_13[0][0]             \n",
            "__________________________________________________________________________________________________\n",
            "dropout_8 (Dropout)             (None, 128)          0           dense_26[0][0]                   \n",
            "__________________________________________________________________________________________________\n",
            "multiply_10 (Multiply)          (None, 64)           0           flatten_39[0][0]                 \n",
            "                                                                 flatten_40[0][0]                 \n",
            "__________________________________________________________________________________________________\n",
            "dense_27 (Dense)                (None, 64)           8256        dropout_8[0][0]                  \n",
            "__________________________________________________________________________________________________\n",
            "concatenate_14 (Concatenate)    (None, 128)          0           multiply_10[0][0]                \n",
            "                                                                 dense_27[0][0]                   \n",
            "__________________________________________________________________________________________________\n",
            "dense_28 (Dense)                (None, 1)            129         concatenate_14[0][0]             \n",
            "==================================================================================================\n",
            "Total params: 686,273\n",
            "Trainable params: 686,273\n",
            "Non-trainable params: 0\n",
            "__________________________________________________________________________________________________\n"
          ],
          "name": "stdout"
        }
      ]
    },
    {
      "cell_type": "code",
      "metadata": {
        "id": "hiAFjH9b_zuc",
        "colab_type": "code",
        "colab": {
          "base_uri": "https://localhost:8080/",
          "height": 153
        },
        "outputId": "9e5d586c-ec88-4b9a-c8aa-7574a14c694a"
      },
      "source": [
        "model.fit([train_user_ids, train_movie_ids], train_ratings, validation_data=([test_user_ids, test_movie_ids], test_ratings), epochs=50, batch_size=128, callbacks=callbacks)"
      ],
      "execution_count": 155,
      "outputs": [
        {
          "output_type": "stream",
          "text": [
            "Train on 80668 samples, validate on 20168 samples\n",
            "Epoch 1/50\n",
            "80668/80668 [==============================] - 9s 107us/step - loss: 0.0340 - val_loss: 0.0417\n",
            "Epoch 2/50\n",
            "80668/80668 [==============================] - 7s 92us/step - loss: 0.0280 - val_loss: 0.0414\n",
            "Epoch 3/50\n",
            "80668/80668 [==============================] - 7s 92us/step - loss: 0.0257 - val_loss: 0.0424\n"
          ],
          "name": "stdout"
        },
        {
          "output_type": "execute_result",
          "data": {
            "text/plain": [
              "<keras.callbacks.History at 0x7f36404b67b8>"
            ]
          },
          "metadata": {
            "tags": []
          },
          "execution_count": 155
        }
      ]
    },
    {
      "cell_type": "code",
      "metadata": {
        "id": "DrDg5uaJD7Yc",
        "colab_type": "code",
        "colab": {
          "base_uri": "https://localhost:8080/",
          "height": 34
        },
        "outputId": "ac6404af-c5ff-4e3e-c708-bfe901a60796"
      },
      "source": [
        "predictions = model.predict([test_user_ids, test_movie_ids])\n",
        "evaluate_prediction(predictions[:, 0])"
      ],
      "execution_count": 156,
      "outputs": [
        {
          "output_type": "execute_result",
          "data": {
            "text/plain": [
              "0.8724066344106951"
            ]
          },
          "metadata": {
            "tags": []
          },
          "execution_count": 156
        }
      ]
    },
    {
      "cell_type": "code",
      "metadata": {
        "id": "mh_Q6mklGZps",
        "colab_type": "code",
        "colab": {}
      },
      "source": [
        ""
      ],
      "execution_count": 0,
      "outputs": []
    }
  ]
}