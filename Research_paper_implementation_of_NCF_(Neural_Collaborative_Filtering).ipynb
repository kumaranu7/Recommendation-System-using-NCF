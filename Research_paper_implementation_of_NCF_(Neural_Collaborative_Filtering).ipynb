{
  "nbformat": 4,
  "nbformat_minor": 0,
  "metadata": {
    "colab": {
      "name": "Research paper implementation of NCF (Neural Collaborative Filtering)",
      "provenance": [],
      "collapsed_sections": [],
      "authorship_tag": "ABX9TyN0j5taPOX//iWxbhWCE7st",
      "include_colab_link": true
    },
    "kernelspec": {
      "name": "python3",
      "display_name": "Python 3"
    }
  },
  "cells": [
    {
      "cell_type": "markdown",
      "metadata": {
        "id": "view-in-github",
        "colab_type": "text"
      },
      "source": [
        "<a href=\"https://colab.research.google.com/github/kumaranu7/Recommendation-System-using-NCF/blob/master/Research_paper_implementation_of_NCF_(Neural_Collaborative_Filtering).ipynb\" target=\"_parent\"><img src=\"https://colab.research.google.com/assets/colab-badge.svg\" alt=\"Open In Colab\"/></a>"
      ]
    },
    {
      "cell_type": "code",
      "metadata": {
        "id": "2AIRP-j4pR63",
        "colab_type": "code",
        "colab": {}
      },
      "source": [
        "import torch\n",
        "\n",
        "if torch.cuda.is_available():\n",
        "  device = torch.device(\"cuda\")\n",
        "else:\n",
        "  device = torch.device(\"cpu\")"
      ],
      "execution_count": 0,
      "outputs": []
    },
    {
      "cell_type": "code",
      "metadata": {
        "id": "9HwNj2PAm3Uf",
        "colab_type": "code",
        "colab": {}
      },
      "source": [
        "class NeuMF(torch.nn.Module):\n",
        "  def __init__(self, config):\n",
        "    super(NeuMF, self).__init__()\n",
        "\n",
        "    # matrix_factorization part\n",
        "\n",
        "    self.embed_user_mf = torch.nn.Embedding(num_embeddings=self.num_users, embedding_dim=self.latent_mf)\n",
        "    self.embed__item_mf = torch.nn.Embedding(num_embeddings=self.num_items, embedding_dim=self.latent_mf)\n",
        "    #Perceptron layer:\n",
        "    self.embed_user_pl = torch.nn.Embedding(num_embeddings=self.num_users, embedding_dim=self.latent_pl)\n",
        "    self.embed_item_pl = torch.nn.Embedding(num_embeddings=self.num_items, embedding_dim=self.latent_pl)\n",
        "\n",
        "    self.fcl = torch.nn.ModuleList()\n",
        "    for i, (inputs, outputs) in enumerate(zip(config['layers'][:-1]+ config['layers'][1:])):\n",
        "      self.fcl.append(torch.nn.Linear(inputs, outputs))\n",
        "\n",
        "    self.loss = torch.nn.Linear(in_features= config['layers'][-1] + config['latent_mf'], out_features=1)\n",
        "    self.sigmoid = torch.nn.Sigmoid()\n",
        "\n",
        "  def forward(self, user, item, title):\n",
        "    embed_user_pls = self.embed_user_pl(user)\n",
        "    embed_item_pls = self.embed_item_pl(item)\n",
        "    embed_user_mfs = self.embed_user_mf(user)\n",
        "    embed_item_mfs = self.embed_item_mf(user)\n",
        "\n",
        "    mat_vec = torch.mul(embed_user_pls, embed_item_mfs)\n",
        "    mat_vec = torch.nn.Dropout(self.config_dropout_rate_mf)(mat_vec) #added extra dropout layer here to increase performance\n",
        "\n",
        "    pl_vector = torch.cat([embed_user_mfs, embed_item_pls], dim = -1)\n",
        "\n",
        "    for i, j in enumerate(range(len(self.fcl))):\n",
        "      pl_vec = self.fcl[i](pl_vec)\n",
        "      pl_vec = torch.nn.ReLU()(pl_vec)\n",
        "    \n",
        "    pl_vec = torch.nn.Dropout(self, config_dropout_rate_lp)(pl_vec) #Added extra dropout layer here to increase performance\n",
        "\n",
        "    vec = torch.cat([pl_vec, mat_vec], dim = -1)\n",
        "    loss= self.loss(vec)\n",
        "    outputs = self.sigmoid(loss)\n",
        "    return outputs\n",
        "     "
      ],
      "execution_count": 0,
      "outputs": []
    },
    {
      "cell_type": "code",
      "metadata": {
        "id": "Yki6taO4zGNW",
        "colab_type": "code",
        "colab": {}
      },
      "source": [
        ""
      ],
      "execution_count": 0,
      "outputs": []
    }
  ]
}